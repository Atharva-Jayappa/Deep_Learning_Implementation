{
 "cells": [
  {
   "cell_type": "code",
   "id": "initial_id",
   "metadata": {
    "collapsed": true,
    "ExecuteTime": {
     "end_time": "2024-12-20T10:16:30.831288Z",
     "start_time": "2024-12-20T10:16:25.104096Z"
    }
   },
   "source": [
    "import torch\n",
    "import torch.nn as nn\n",
    "import torchvision\n",
    "from torchvision import transforms\n",
    "import matplotlib.pyplot as plt\n",
    "\n",
    "print(torch.cuda.is_available())\n"
   ],
   "outputs": [
    {
     "name": "stdout",
     "output_type": "stream",
     "text": [
      "True\n"
     ]
    }
   ],
   "execution_count": 2
  },
  {
   "metadata": {
    "ExecuteTime": {
     "end_time": "2024-12-20T10:16:30.835221Z",
     "start_time": "2024-12-20T10:16:30.831288Z"
    }
   },
   "cell_type": "code",
   "source": [
    "device = torch.device('cuda')\n",
    "batch_size = 64\n",
    "num_classes = 10\n",
    "learning_rate = 0.001\n",
    "epochs = 10"
   ],
   "id": "86248d9a5bccc67d",
   "outputs": [],
   "execution_count": 3
  },
  {
   "metadata": {
    "ExecuteTime": {
     "end_time": "2024-12-20T10:16:30.878673Z",
     "start_time": "2024-12-20T10:16:30.835221Z"
    }
   },
   "cell_type": "code",
   "source": [
    "from torchvision import datasets\n",
    "\n",
    "#Loading the dataset and preprocessing\n",
    "train_dataset = torchvision.datasets.MNIST(root = './data',\n",
    "                                               train = True,\n",
    "                                               transform = transforms.Compose([\n",
    "                                                      transforms.Resize((32,32)),\n",
    "                                                      transforms.ToTensor(),\n",
    "                                                      transforms.Normalize(mean = (0.1307,), std = (0.3081,))]),\n",
    "                                               download = True)\n",
    "    \n",
    "    \n",
    "test_dataset = torchvision.datasets.MNIST(root = './data',\n",
    "                                              train = False,\n",
    "                                              transform = transforms.Compose([\n",
    "                                                      transforms.Resize((32,32)),\n",
    "                                                      transforms.ToTensor(),\n",
    "                                                      transforms.Normalize(mean = (0.1325,), std = (0.3105,))]),\n",
    "                                              download=True)"
   ],
   "id": "40c1284e4030bce4",
   "outputs": [],
   "execution_count": 4
  },
  {
   "metadata": {
    "ExecuteTime": {
     "end_time": "2024-12-20T10:16:30.883878Z",
     "start_time": "2024-12-20T10:16:30.878673Z"
    }
   },
   "cell_type": "code",
   "source": [
    "train_loader = torch.utils.data.DataLoader(dataset=train_dataset,batch_size=batch_size,shuffle=True)\n",
    "\n",
    "test_loader = torch.utils.data.DataLoader(dataset=test_dataset,batch_size=batch_size,shuffle=True)"
   ],
   "id": "9ebf263151ecd3e8",
   "outputs": [],
   "execution_count": 5
  },
  {
   "metadata": {
    "ExecuteTime": {
     "end_time": "2024-12-20T10:30:23.699228Z",
     "start_time": "2024-12-20T10:30:23.693247Z"
    }
   },
   "cell_type": "code",
   "source": [
    "class LeNet5(nn.Module):\n",
    "    def __init__(self):\n",
    "        super(LeNet5, self).__init__()\n",
    "        \n",
    "        self.layer1 = nn.Sequential(\n",
    "                nn.Conv2d(1, 6, kernel_size=5, stride=1, padding=0),\n",
    "                nn.BatchNorm2d(6),\n",
    "                nn.ReLU(),\n",
    "                nn.MaxPool2d(kernel_size = 2, stride = 2))\n",
    "        self.layer2 = nn.Sequential(\n",
    "                nn.Conv2d(6, 16, kernel_size=5, stride=1, padding=0),\n",
    "                nn.BatchNorm2d(16),\n",
    "                nn.ReLU(),\n",
    "                nn.MaxPool2d(kernel_size = 2, stride = 2))\n",
    "        \n",
    "        self.fc = nn.Linear(400, 120)\n",
    "        self.relu = nn.ReLU()\n",
    "        self.fc1 = nn.Linear(120, 84)\n",
    "        self.relu1 = nn.ReLU()\n",
    "        self.fc2 = nn.Linear(84, 10)\n",
    "        self.relu2 = nn.ReLU()\n",
    "        \n",
    "    def forward(self, x):\n",
    "        out = self.layer1(x)\n",
    "        out = self.layer2(out)\n",
    "        out = out.reshape(out.size(0), -1)\n",
    "        out = self.fc(out)\n",
    "        out = self.relu(out)\n",
    "        out = self.fc1(out)\n",
    "        out = self.relu1(out)\n",
    "        out = self.fc2(out)\n",
    "        return out\n",
    "        "
   ],
   "id": "eb05314ec61b672d",
   "outputs": [],
   "execution_count": 11
  },
  {
   "metadata": {
    "ExecuteTime": {
     "end_time": "2024-12-20T10:30:24.635894Z",
     "start_time": "2024-12-20T10:30:24.626105Z"
    }
   },
   "cell_type": "code",
   "source": [
    "model = LeNet5().to(device)\n",
    "\n",
    "loss_function = nn.CrossEntropyLoss()\n",
    "\n",
    "optimizer = torch.optim.Adam(model.parameters(), lr=learning_rate)\n",
    "\n",
    "total_step = len(train_loader)"
   ],
   "id": "1594bb5aede3236b",
   "outputs": [],
   "execution_count": 12
  },
  {
   "metadata": {
    "ExecuteTime": {
     "end_time": "2024-12-20T10:32:34.046035Z",
     "start_time": "2024-12-20T10:30:25.880868Z"
    }
   },
   "cell_type": "code",
   "source": [
    "for e in range(epochs):\n",
    "    for i , (images, labels) in enumerate(train_loader):\n",
    "        images = images.to(device)    \n",
    "        labels = labels.to(device)\n",
    "        \n",
    "        outputs = model(images)\n",
    "        loss = loss_function(outputs, labels)\n",
    "        \n",
    "        optimizer.zero_grad()\n",
    "        loss.backward()\n",
    "        optimizer.step()\n",
    "        \n",
    "        if(i+1) % 100 == 0:\n",
    "            print('Epoch [{}/{}], Step [{}/{}], Loss: {:.4f}'.format(e+1, epochs, i+1, total_step, loss.item()))"
   ],
   "id": "8cfa69418b88fe18",
   "outputs": [
    {
     "name": "stdout",
     "output_type": "stream",
     "text": [
      "Epoch [1/10], Step [100/938], Loss: 0.1837\n",
      "Epoch [1/10], Step [200/938], Loss: 0.2353\n",
      "Epoch [1/10], Step [300/938], Loss: 0.0597\n",
      "Epoch [1/10], Step [400/938], Loss: 0.1090\n",
      "Epoch [1/10], Step [500/938], Loss: 0.1516\n",
      "Epoch [1/10], Step [600/938], Loss: 0.0459\n",
      "Epoch [1/10], Step [700/938], Loss: 0.0436\n",
      "Epoch [1/10], Step [800/938], Loss: 0.0650\n",
      "Epoch [1/10], Step [900/938], Loss: 0.0056\n",
      "Epoch [2/10], Step [100/938], Loss: 0.0868\n",
      "Epoch [2/10], Step [200/938], Loss: 0.1154\n",
      "Epoch [2/10], Step [300/938], Loss: 0.0800\n",
      "Epoch [2/10], Step [400/938], Loss: 0.0837\n",
      "Epoch [2/10], Step [500/938], Loss: 0.0726\n",
      "Epoch [2/10], Step [600/938], Loss: 0.0610\n",
      "Epoch [2/10], Step [700/938], Loss: 0.0419\n",
      "Epoch [2/10], Step [800/938], Loss: 0.0263\n",
      "Epoch [2/10], Step [900/938], Loss: 0.0123\n",
      "Epoch [3/10], Step [100/938], Loss: 0.0209\n",
      "Epoch [3/10], Step [200/938], Loss: 0.0620\n",
      "Epoch [3/10], Step [300/938], Loss: 0.1015\n",
      "Epoch [3/10], Step [400/938], Loss: 0.0303\n",
      "Epoch [3/10], Step [500/938], Loss: 0.0030\n",
      "Epoch [3/10], Step [600/938], Loss: 0.0074\n",
      "Epoch [3/10], Step [700/938], Loss: 0.0135\n",
      "Epoch [3/10], Step [800/938], Loss: 0.0636\n",
      "Epoch [3/10], Step [900/938], Loss: 0.0295\n",
      "Epoch [4/10], Step [100/938], Loss: 0.1526\n",
      "Epoch [4/10], Step [200/938], Loss: 0.0447\n",
      "Epoch [4/10], Step [300/938], Loss: 0.0026\n",
      "Epoch [4/10], Step [400/938], Loss: 0.0721\n",
      "Epoch [4/10], Step [500/938], Loss: 0.0244\n",
      "Epoch [4/10], Step [600/938], Loss: 0.0018\n",
      "Epoch [4/10], Step [700/938], Loss: 0.0193\n",
      "Epoch [4/10], Step [800/938], Loss: 0.0403\n",
      "Epoch [4/10], Step [900/938], Loss: 0.0015\n",
      "Epoch [5/10], Step [100/938], Loss: 0.0339\n",
      "Epoch [5/10], Step [200/938], Loss: 0.0161\n",
      "Epoch [5/10], Step [300/938], Loss: 0.0049\n",
      "Epoch [5/10], Step [400/938], Loss: 0.0025\n",
      "Epoch [5/10], Step [500/938], Loss: 0.0011\n",
      "Epoch [5/10], Step [600/938], Loss: 0.0015\n",
      "Epoch [5/10], Step [700/938], Loss: 0.1351\n",
      "Epoch [5/10], Step [800/938], Loss: 0.0069\n",
      "Epoch [5/10], Step [900/938], Loss: 0.0009\n",
      "Epoch [6/10], Step [100/938], Loss: 0.0023\n",
      "Epoch [6/10], Step [200/938], Loss: 0.0036\n",
      "Epoch [6/10], Step [300/938], Loss: 0.0106\n",
      "Epoch [6/10], Step [400/938], Loss: 0.0213\n",
      "Epoch [6/10], Step [500/938], Loss: 0.0151\n",
      "Epoch [6/10], Step [600/938], Loss: 0.0478\n",
      "Epoch [6/10], Step [700/938], Loss: 0.0256\n",
      "Epoch [6/10], Step [800/938], Loss: 0.1619\n",
      "Epoch [6/10], Step [900/938], Loss: 0.0564\n",
      "Epoch [7/10], Step [100/938], Loss: 0.0080\n",
      "Epoch [7/10], Step [200/938], Loss: 0.0033\n",
      "Epoch [7/10], Step [300/938], Loss: 0.0030\n",
      "Epoch [7/10], Step [400/938], Loss: 0.0139\n",
      "Epoch [7/10], Step [500/938], Loss: 0.1016\n",
      "Epoch [7/10], Step [600/938], Loss: 0.0017\n",
      "Epoch [7/10], Step [700/938], Loss: 0.0572\n",
      "Epoch [7/10], Step [800/938], Loss: 0.0318\n",
      "Epoch [7/10], Step [900/938], Loss: 0.0680\n",
      "Epoch [8/10], Step [100/938], Loss: 0.0027\n",
      "Epoch [8/10], Step [200/938], Loss: 0.0103\n",
      "Epoch [8/10], Step [300/938], Loss: 0.0003\n",
      "Epoch [8/10], Step [400/938], Loss: 0.0448\n",
      "Epoch [8/10], Step [500/938], Loss: 0.0010\n",
      "Epoch [8/10], Step [600/938], Loss: 0.0184\n",
      "Epoch [8/10], Step [700/938], Loss: 0.0441\n",
      "Epoch [8/10], Step [800/938], Loss: 0.0022\n",
      "Epoch [8/10], Step [900/938], Loss: 0.0025\n",
      "Epoch [9/10], Step [100/938], Loss: 0.0010\n",
      "Epoch [9/10], Step [200/938], Loss: 0.0005\n",
      "Epoch [9/10], Step [300/938], Loss: 0.0054\n",
      "Epoch [9/10], Step [400/938], Loss: 0.0306\n",
      "Epoch [9/10], Step [500/938], Loss: 0.0001\n",
      "Epoch [9/10], Step [600/938], Loss: 0.0257\n",
      "Epoch [9/10], Step [700/938], Loss: 0.0126\n",
      "Epoch [9/10], Step [800/938], Loss: 0.0025\n",
      "Epoch [9/10], Step [900/938], Loss: 0.0480\n",
      "Epoch [10/10], Step [100/938], Loss: 0.0090\n",
      "Epoch [10/10], Step [200/938], Loss: 0.0007\n",
      "Epoch [10/10], Step [300/938], Loss: 0.0004\n",
      "Epoch [10/10], Step [400/938], Loss: 0.0356\n",
      "Epoch [10/10], Step [500/938], Loss: 0.0016\n",
      "Epoch [10/10], Step [600/938], Loss: 0.0005\n",
      "Epoch [10/10], Step [700/938], Loss: 0.0242\n",
      "Epoch [10/10], Step [800/938], Loss: 0.0218\n",
      "Epoch [10/10], Step [900/938], Loss: 0.0040\n"
     ]
    }
   ],
   "execution_count": 13
  },
  {
   "metadata": {
    "ExecuteTime": {
     "end_time": "2024-12-20T10:34:27.621309Z",
     "start_time": "2024-12-20T10:34:25.209416Z"
    }
   },
   "cell_type": "code",
   "source": [
    "with torch.no_grad():\n",
    "    correct = 0\n",
    "    total = 0\n",
    "    for images, labels in test_loader:\n",
    "            images = images.to(device)\n",
    "            labels = labels.to(device)\n",
    "            outputs = model(images)\n",
    "            _, predicted = torch.max(outputs.data, 1)\n",
    "            total += labels.size(0)\n",
    "            correct += (predicted == labels).sum().item()\n",
    "    print('Accuracy of the network on the 10000 test images: {} %'.format(100 * correct / total))\n",
    "\n"
   ],
   "id": "eb56fd08743be1b9",
   "outputs": [
    {
     "name": "stdout",
     "output_type": "stream",
     "text": [
      "Accuracy of the network on the 10000 test images: 99.19 %\n"
     ]
    }
   ],
   "execution_count": 16
  },
  {
   "metadata": {},
   "cell_type": "code",
   "outputs": [],
   "execution_count": null,
   "source": "",
   "id": "b240fb94ce29876c"
  }
 ],
 "metadata": {
  "kernelspec": {
   "display_name": "Python 3",
   "language": "python",
   "name": "python3"
  },
  "language_info": {
   "codemirror_mode": {
    "name": "ipython",
    "version": 2
   },
   "file_extension": ".py",
   "mimetype": "text/x-python",
   "name": "python",
   "nbconvert_exporter": "python",
   "pygments_lexer": "ipython2",
   "version": "2.7.6"
  }
 },
 "nbformat": 4,
 "nbformat_minor": 5
}
