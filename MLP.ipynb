{
  "nbformat": 4,
  "nbformat_minor": 0,
  "metadata": {
    "colab": {
      "provenance": []
    },
    "kernelspec": {
      "name": "python3",
      "display_name": "Python 3"
    },
    "language_info": {
      "name": "python"
    }
  },
  "cells": [
    {
      "cell_type": "code",
      "execution_count": 73,
      "metadata": {
        "id": "dXyGnmSu6lCf"
      },
      "outputs": [],
      "source": [
        "import numpy as np\n",
        "import matplotlib.pyplot as plt\n",
        "import random\n",
        "import math"
      ]
    },
    {
      "cell_type": "code",
      "source": [
        "class Value:\n",
        "\n",
        "    def __init__(self, data, _children=(), _op=''):\n",
        "        self.grad = 0.0\n",
        "        self.data = data\n",
        "        self._prev = set(_children)\n",
        "        self._op = _op\n",
        "        self._backward = lambda : None\n",
        "\n",
        "    def __repr__(self):\n",
        "        return f\"{self.data}\"\n",
        "\n",
        "    def __neg__(self):\n",
        "      return self * -1\n",
        "\n",
        "    def __sub__(self, other):\n",
        "      return self + (-other)\n",
        "\n",
        "    def __add__(self, other):\n",
        "\n",
        "        other = other if isinstance(other, Value) else Value(other)\n",
        "        out = Value((self.data+other.data), (self, other), '+')\n",
        "\n",
        "        def _backward():\n",
        "            self.grad += out.grad\n",
        "            other.grad += out.grad\n",
        "\n",
        "        out._backward = _backward\n",
        "        return out\n",
        "\n",
        "    def __radd__(self, other): # other + self\n",
        "        return self + other\n",
        "\n",
        "    def __mul__(self, other):\n",
        "\n",
        "        other = other if isinstance(other, Value) else Value(other)\n",
        "        out =  Value((self.data*other.data), (self, other), '*')\n",
        "\n",
        "        def _backward():\n",
        "            self.grad += out.grad*other.data\n",
        "            other.grad += out.grad*self.data\n",
        "\n",
        "        out._backward = _backward\n",
        "\n",
        "        return out\n",
        "\n",
        "    def __rmul__(self, other):\n",
        "        return self*other\n",
        "\n",
        "    def tanh(self):\n",
        "        x = self.data\n",
        "        y = (math.exp(2*x)-1)/(math.exp(2*x)+1)\n",
        "        out = Value(y , (self,))\n",
        "\n",
        "        def _backward():\n",
        "            self.grad += (1-y**2) * out.grad\n",
        "\n",
        "        out._backward = _backward\n",
        "        return out\n",
        "\n",
        "    def __pow__(self, other):\n",
        "        assert isinstance(other, (int, float))\n",
        "        out = Value(self.data**other, (self,))\n",
        "\n",
        "        def _backward():\n",
        "            self.grad += (other * self.data**(other-1)) * out.grad\n",
        "        out._backward = _backward\n",
        "\n",
        "        return out\n",
        "\n",
        "\n",
        "    def __truediv__(self, other):\n",
        "        return self * (other**-1)\n",
        "\n",
        "    def backward(self):\n",
        "        topo = []\n",
        "        visited = set()\n",
        "\n",
        "        def topo_sort(v):\n",
        "            if v not in visited:\n",
        "                visited.add(v)\n",
        "                for child in v._prev:\n",
        "                    topo_sort(child)\n",
        "                topo.append(v)\n",
        "\n",
        "        topo_sort(self)\n",
        "\n",
        "        self.grad = 1\n",
        "\n",
        "        for node in reversed(topo):\n",
        "            node._backward()\n"
      ],
      "metadata": {
        "id": "oIZlZ0Gquivj"
      },
      "execution_count": 74,
      "outputs": []
    },
    {
      "cell_type": "code",
      "source": [
        "class Neuron:\n",
        "\n",
        "    def __init__(self, nin):\n",
        "\n",
        "        self.w = [ Value(random.uniform(-1,1)) for _ in range(nin)]\n",
        "        self.b = Value(random.uniform(-1,1))\n",
        "\n",
        "    def __call__(self, x):\n",
        "\n",
        "        act = sum((wi*xi for wi, xi in zip(self.w,x)), self.b)\n",
        "        out = act.tanh()\n",
        "        return out\n",
        "\n",
        "    def parameters(self):\n",
        "      return self.w + [self.b]\n",
        "\n",
        "class Layer:\n",
        "\n",
        "    def __init__(self, nin, nout):\n",
        "        self.neurons = [Neuron(nin) for _ in range(nout)]\n",
        "\n",
        "    def __call__(self,x):\n",
        "        out = [n(x) for n in  self.neurons]\n",
        "        return out[0] if len(out) == 1 else out\n",
        "\n",
        "    def parameters(self):\n",
        "      return [p for neuron in self.neurons for p in neuron.parameters()]\n",
        "\n",
        "class MLP:\n",
        "\n",
        "    def __init__(self, nin, nout):\n",
        "\n",
        "        sz = [nin]+nout\n",
        "        self.layers = [Layer(sz[x], sz[x+1]) for x in range(len(nout))]\n",
        "\n",
        "    def __call__(self,x):\n",
        "\n",
        "        for layer in self.layers:\n",
        "            x = layer(x)\n",
        "        return x\n",
        "\n",
        "    def parameters(self):\n",
        "      return [p for layer in self.layers for p in layer.parameters()]\n",
        "\n",
        "\n"
      ],
      "metadata": {
        "id": "ynUXZfabwazn"
      },
      "execution_count": 75,
      "outputs": []
    },
    {
      "cell_type": "code",
      "source": [
        "x = [3.0, -2.0]\n",
        "n = MLP(2,[3,3,1])\n",
        "\n",
        "n(x)"
      ],
      "metadata": {
        "colab": {
          "base_uri": "https://localhost:8080/"
        },
        "id": "9U9EBgDedAEW",
        "outputId": "be0303ce-e317-41dc-de50-fa13b412edce"
      },
      "execution_count": 76,
      "outputs": [
        {
          "output_type": "execute_result",
          "data": {
            "text/plain": [
              "-0.9107449213394302"
            ]
          },
          "metadata": {},
          "execution_count": 76
        }
      ]
    },
    {
      "cell_type": "code",
      "source": [
        "xs = [\n",
        "  [2.0, 3.0, -1.0],\n",
        "  [3.0, -1.0, 0.5],\n",
        "  [0.5, 1.0, 1.0],\n",
        "  [1.0, 1.0, -1.0],\n",
        "]\n",
        "ys = [1.0, -1.0, -1.0, 1.0] # desired targets"
      ],
      "metadata": {
        "id": "TOg8N3j-cXlk"
      },
      "execution_count": 77,
      "outputs": []
    },
    {
      "cell_type": "code",
      "source": [
        "for k in range(100):\n",
        "\n",
        "  # forward pass\n",
        "  ypred = [n(x) for x in xs]\n",
        "  loss = sum((yout - ygt)**2 for ygt, yout in zip(ys, ypred))\n",
        "\n",
        "  # backward pass\n",
        "  for p in n.parameters():\n",
        "    p.grad = 0.0\n",
        "  loss.backward()\n",
        "\n",
        "  # update\n",
        "  for p in n.parameters():\n",
        "    p.data += -0.01 * p.grad\n",
        "\n",
        "print(k, loss.data)"
      ],
      "metadata": {
        "colab": {
          "base_uri": "https://localhost:8080/"
        },
        "id": "DYewRvKWdFB3",
        "outputId": "47dbf698-44ca-4c5c-a0ee-8414d4039a3c"
      },
      "execution_count": 88,
      "outputs": [
        {
          "output_type": "stream",
          "name": "stdout",
          "text": [
            "99 0.05613682134510456\n"
          ]
        }
      ]
    },
    {
      "cell_type": "code",
      "source": [
        "ypred"
      ],
      "metadata": {
        "id": "Y1CDx2MZmjNc",
        "colab": {
          "base_uri": "https://localhost:8080/"
        },
        "outputId": "ddeef001-7a55-45f8-9eb5-b00b50041601"
      },
      "execution_count": 89,
      "outputs": [
        {
          "output_type": "execute_result",
          "data": {
            "text/plain": [
              "[0.9939994939312133,\n",
              " -0.9401894190444228,\n",
              " -0.8454237176354058,\n",
              " 0.8307969190347865]"
            ]
          },
          "metadata": {},
          "execution_count": 89
        }
      ]
    },
    {
      "cell_type": "code",
      "source": [],
      "metadata": {
        "id": "qze3K1y4AKhC"
      },
      "execution_count": null,
      "outputs": []
    }
  ]
}